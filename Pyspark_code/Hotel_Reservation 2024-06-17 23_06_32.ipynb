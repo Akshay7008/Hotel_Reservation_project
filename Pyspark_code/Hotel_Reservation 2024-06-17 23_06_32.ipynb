{
 "cells": [
  {
   "cell_type": "code",
   "execution_count": 0,
   "metadata": {
    "application/vnd.databricks.v1+cell": {
     "cellMetadata": {
      "byteLimit": 2048000,
      "rowLimit": 10000
     },
     "inputWidgets": {},
     "nuid": "444dfd9d-cb0f-4ea6-b9f2-5d16e4ec3d96",
     "showTitle": false,
     "title": ""
    }
   },
   "outputs": [],
   "source": [
    "df_hotel_reservation=spark.read.format(\"csv\")\\\n",
    "                            .option(\"inferschema\",True)\\\n",
    "                                .option(\"header\",True)\\\n",
    "                                    .load(\"/FileStore/tables/Hotel_Reservation_Dataset.csv\")"
   ]
  },
  {
   "cell_type": "code",
   "execution_count": 0,
   "metadata": {
    "application/vnd.databricks.v1+cell": {
     "cellMetadata": {
      "byteLimit": 2048000,
      "rowLimit": 10000
     },
     "inputWidgets": {},
     "nuid": "339557eb-4961-4cdc-89b9-4dacd56716d2",
     "showTitle": false,
     "title": ""
    }
   },
   "outputs": [
    {
     "output_type": "stream",
     "name": "stdout",
     "output_type": "stream",
     "text": [
      "+----------+------------+--------------+--------------------+-----------------+-----------------+------------------+---------+------------+-------------------+------------------+--------------+\n|Booking_ID|no_of_adults|no_of_children|no_of_weekend_nights|no_of_week_nights|type_of_meal_plan|room_type_reserved|lead_time|arrival_date|market_segment_type|avg_price_per_room|booking_status|\n+----------+------------+--------------+--------------------+-----------------+-----------------+------------------+---------+------------+-------------------+------------------+--------------+\n|  INN00001|           2|             0|                   1|                2|      Meal Plan 1|       Room_Type 1|      224|  2017-10-02|            Offline|              65.0|  Not_Canceled|\n|  INN00002|           2|             0|                   2|                3|     Not Selected|       Room_Type 1|        5|  2018-11-06|             Online|            106.68|  Not_Canceled|\n|  INN00003|           1|             0|                   2|                1|      Meal Plan 1|       Room_Type 1|        1|  2018-02-28|             Online|              60.0|      Canceled|\n|  INN00004|           2|             0|                   0|                2|      Meal Plan 1|       Room_Type 1|      211|  2018-05-20|             Online|             100.0|      Canceled|\n|  INN00005|           2|             0|                   1|                1|     Not Selected|       Room_Type 1|       48|  2018-04-11|             Online|              94.5|      Canceled|\n|  INN00006|           2|             0|                   0|                2|      Meal Plan 2|       Room_Type 1|      346|  2018-09-13|             Online|             115.0|      Canceled|\n|  INN00007|           2|             0|                   1|                3|      Meal Plan 1|       Room_Type 1|       34|  2017-10-15|             Online|            107.55|  Not_Canceled|\n|  INN00008|           2|             0|                   1|                3|      Meal Plan 1|       Room_Type 4|       83|  2018-12-26|             Online|            105.61|  Not_Canceled|\n|  INN00009|           3|             0|                   0|                4|      Meal Plan 1|       Room_Type 1|      121|  2018-07-06|            Offline|              96.9|  Not_Canceled|\n|  INN00010|           2|             0|                   0|                5|      Meal Plan 1|       Room_Type 4|       44|  2018-10-18|             Online|            133.44|  Not_Canceled|\n|  INN00011|           1|             0|                   1|                0|     Not Selected|       Room_Type 1|        0|  2018-09-11|             Online|             85.03|  Not_Canceled|\n|  INN00012|           1|             0|                   2|                1|      Meal Plan 1|       Room_Type 4|       35|  2018-04-30|             Online|             140.4|  Not_Canceled|\n|  INN00013|           2|             0|                   2|                1|     Not Selected|       Room_Type 1|       30|  2018-11-26|             Online|              88.0|      Canceled|\n|  INN00014|           1|             0|                   2|                0|      Meal Plan 1|       Room_Type 1|       95|  2018-11-20|             Online|              90.0|      Canceled|\n|  INN00015|           2|             0|                   0|                2|      Meal Plan 1|       Room_Type 1|       47|  2017-10-20|             Online|              94.5|  Not_Canceled|\n|  INN00016|           2|             0|                   0|                2|      Meal Plan 2|       Room_Type 1|      256|  2018-06-15|             Online|             115.0|      Canceled|\n|  INN00017|           1|             0|                   1|                0|      Meal Plan 1|       Room_Type 1|        0|  2017-10-05|            Offline|              96.0|  Not_Canceled|\n|  INN00018|           2|             0|                   1|                3|     Not Selected|       Room_Type 1|        1|  2017-08-10|             Online|              96.0|  Not_Canceled|\n|  INN00019|           2|             0|                   2|                2|      Meal Plan 1|       Room_Type 1|       99|  2017-10-30|             Online|              65.0|      Canceled|\n|  INN00020|           2|             0|                   1|                0|      Meal Plan 1|       Room_Type 1|       12|  2017-10-04|            Offline|              72.0|  Not_Canceled|\n+----------+------------+--------------+--------------------+-----------------+-----------------+------------------+---------+------------+-------------------+------------------+--------------+\nonly showing top 20 rows\n\n"
     ]
    }
   ],
   "source": [
    "df_hotel_reservation.show()"
   ]
  },
  {
   "cell_type": "code",
   "execution_count": 0,
   "metadata": {
    "application/vnd.databricks.v1+cell": {
     "cellMetadata": {
      "byteLimit": 2048000,
      "rowLimit": 10000
     },
     "inputWidgets": {},
     "nuid": "61d1cadb-6bd5-4ef8-ab35-1195c9eebfba",
     "showTitle": false,
     "title": ""
    }
   },
   "outputs": [
    {
     "output_type": "stream",
     "name": "stdout",
     "output_type": "stream",
     "text": [
      "Out[3]: ['Booking_ID',\n 'no_of_adults',\n 'no_of_children',\n 'no_of_weekend_nights',\n 'no_of_week_nights',\n 'type_of_meal_plan',\n 'room_type_reserved',\n 'lead_time',\n 'arrival_date',\n 'market_segment_type',\n 'avg_price_per_room',\n 'booking_status']"
     ]
    }
   ],
   "source": [
    "df_hotel_reservation.columns"
   ]
  },
  {
   "cell_type": "code",
   "execution_count": 0,
   "metadata": {
    "application/vnd.databricks.v1+cell": {
     "cellMetadata": {
      "byteLimit": 2048000,
      "rowLimit": 10000
     },
     "inputWidgets": {},
     "nuid": "2942f9ee-4304-44d4-ac22-367d3df0c97f",
     "showTitle": false,
     "title": ""
    }
   },
   "outputs": [
    {
     "output_type": "stream",
     "name": "stdout",
     "output_type": "stream",
     "text": [
      "root\n |-- Booking_ID: string (nullable = true)\n |-- no_of_adults: integer (nullable = true)\n |-- no_of_children: integer (nullable = true)\n |-- no_of_weekend_nights: integer (nullable = true)\n |-- no_of_week_nights: integer (nullable = true)\n |-- type_of_meal_plan: string (nullable = true)\n |-- room_type_reserved: string (nullable = true)\n |-- lead_time: integer (nullable = true)\n |-- arrival_date: date (nullable = true)\n |-- market_segment_type: string (nullable = true)\n |-- avg_price_per_room: double (nullable = true)\n |-- booking_status: string (nullable = true)\n\n"
     ]
    }
   ],
   "source": [
    "df_hotel_reservation.printSchema()"
   ]
  },
  {
   "cell_type": "code",
   "execution_count": 0,
   "metadata": {
    "application/vnd.databricks.v1+cell": {
     "cellMetadata": {
      "byteLimit": 2048000,
      "rowLimit": 10000
     },
     "inputWidgets": {},
     "nuid": "b5763407-fbe5-495f-8ae6-e7c4b30f3286",
     "showTitle": false,
     "title": ""
    }
   },
   "outputs": [
    {
     "output_type": "stream",
     "name": "stdout",
     "output_type": "stream",
     "text": [
      "Out[5]: 700"
     ]
    }
   ],
   "source": [
    "#What is the total number of reservations in the dataset?\n",
    "\n",
    "df_hotel_reservation.count()"
   ]
  },
  {
   "cell_type": "code",
   "execution_count": 0,
   "metadata": {
    "application/vnd.databricks.v1+cell": {
     "cellMetadata": {
      "byteLimit": 2048000,
      "rowLimit": 10000
     },
     "inputWidgets": {},
     "nuid": "9fdfc649-c081-4afb-8fcf-8413031bbfd0",
     "showTitle": false,
     "title": ""
    }
   },
   "outputs": [],
   "source": [
    "from pyspark.sql.functions import *\n",
    "from pyspark.sql.types import *"
   ]
  },
  {
   "cell_type": "code",
   "execution_count": 0,
   "metadata": {
    "application/vnd.databricks.v1+cell": {
     "cellMetadata": {
      "byteLimit": 2048000,
      "rowLimit": 10000
     },
     "inputWidgets": {},
     "nuid": "8f7487b0-f142-49ec-ad56-f061bb28b459",
     "showTitle": false,
     "title": ""
    }
   },
   "outputs": [
    {
     "output_type": "stream",
     "name": "stdout",
     "output_type": "stream",
     "text": [
      "+-----------------+-----+\n|type_of_meal_plan|count|\n+-----------------+-----+\n|      Meal Plan 1|  527|\n+-----------------+-----+\nonly showing top 1 row\n\n"
     ]
    }
   ],
   "source": [
    "#Which meal plan is the most popular among guests?\n",
    "\n",
    "df_hotel_reservation.groupBy(\"type_of_meal_plan\")\\\n",
    "                        .count().show(1)"
   ]
  },
  {
   "cell_type": "code",
   "execution_count": 0,
   "metadata": {
    "application/vnd.databricks.v1+cell": {
     "cellMetadata": {
      "byteLimit": 2048000,
      "rowLimit": 10000
     },
     "inputWidgets": {},
     "nuid": "7f49041f-8ad7-415f-baff-19531ac60305",
     "showTitle": false,
     "title": ""
    }
   },
   "outputs": [
    {
     "output_type": "stream",
     "name": "stdout",
     "output_type": "stream",
     "text": [
      "+-------------+\n|average_price|\n+-------------+\n|       144.57|\n+-------------+\n\n"
     ]
    }
   ],
   "source": [
    "#What is the average price per room for reservations involving children?\n",
    "\n",
    "df_not_childern=df_hotel_reservation.filter(col(\"no_of_children\")!=0)\n",
    "df_not_childern.select(round(avg(col(\"avg_price_per_room\")),2).alias(\"average_price\")).show()\n"
   ]
  },
  {
   "cell_type": "code",
   "execution_count": 0,
   "metadata": {
    "application/vnd.databricks.v1+cell": {
     "cellMetadata": {
      "byteLimit": 2048000,
      "rowLimit": 10000
     },
     "inputWidgets": {},
     "nuid": "9d723f36-c3d1-458e-8277-143833961e85",
     "showTitle": false,
     "title": ""
    }
   },
   "outputs": [
    {
     "output_type": "stream",
     "name": "stdout",
     "output_type": "stream",
     "text": [
      "Out[13]: 123"
     ]
    }
   ],
   "source": [
    "#How many reservations were made for the year 20XX (replace XX with the desired year)?\n",
    "\n",
    "df_hotel_reservation_2017=df_hotel_reservation.filter(year(col(\"arrival_date\"))==2017)\n",
    "df_hotel_reservation_2017.count()"
   ]
  },
  {
   "cell_type": "code",
   "execution_count": 0,
   "metadata": {
    "application/vnd.databricks.v1+cell": {
     "cellMetadata": {
      "byteLimit": 2048000,
      "rowLimit": 10000
     },
     "inputWidgets": {},
     "nuid": "cf89b8be-4ccb-4e8b-8df2-5f7ab005be7e",
     "showTitle": false,
     "title": ""
    }
   },
   "outputs": [
    {
     "output_type": "stream",
     "name": "stdout",
     "output_type": "stream",
     "text": [
      "+------------------+-----+\n|room_type_reserved|count|\n+------------------+-----+\n|       Room_Type 1|  534|\n+------------------+-----+\nonly showing top 1 row\n\n"
     ]
    }
   ],
   "source": [
    "#What is the most commonly booked room type?\n",
    "\n",
    "most_commom_room=df_hotel_reservation.groupBy(\"room_type_reserved\").count()\n",
    "most_commom_room.sort(col(\"count\").desc()).show(1)"
   ]
  },
  {
   "cell_type": "code",
   "execution_count": 0,
   "metadata": {
    "application/vnd.databricks.v1+cell": {
     "cellMetadata": {
      "byteLimit": 2048000,
      "rowLimit": 10000
     },
     "inputWidgets": {},
     "nuid": "fe79af47-6a90-4829-977d-a194de39ca5e",
     "showTitle": false,
     "title": ""
    }
   },
   "outputs": [
    {
     "output_type": "stream",
     "name": "stdout",
     "output_type": "stream",
     "text": [
      "Out[19]: 383"
     ]
    }
   ],
   "source": [
    "#How many reservations fall on a weekend (no_of_weekend_nights > 0)?\n",
    "\n",
    "reservation_fall_on_weekend=df_hotel_reservation.filter(col(\"no_of_weekend_nights\")>0)\n",
    "reservation_fall_on_weekend.count()"
   ]
  },
  {
   "cell_type": "code",
   "execution_count": 0,
   "metadata": {
    "application/vnd.databricks.v1+cell": {
     "cellMetadata": {
      "byteLimit": 2048000,
      "rowLimit": 10000
     },
     "inputWidgets": {},
     "nuid": "a0346f2a-4d2c-4efe-94cc-a7ba472ac87d",
     "showTitle": false,
     "title": ""
    }
   },
   "outputs": [
    {
     "output_type": "stream",
     "name": "stdout",
     "output_type": "stream",
     "text": [
      "+-------------+-------------+\n|max_lead_time|min_lead_time|\n+-------------+-------------+\n|          443|            0|\n+-------------+-------------+\n\n"
     ]
    }
   ],
   "source": [
    "#What is the highest and lowest lead time for reservations?\n",
    "\n",
    "df_hotel_reservation.select(max(col(\"lead_time\")).alias(\"max_lead_time\"),\n",
    "                            min(col(\"lead_time\")).alias(\"min_lead_time\")).show()"
   ]
  },
  {
   "cell_type": "code",
   "execution_count": 0,
   "metadata": {
    "application/vnd.databricks.v1+cell": {
     "cellMetadata": {
      "byteLimit": 2048000,
      "rowLimit": 10000
     },
     "inputWidgets": {},
     "nuid": "67d0ece6-d8de-4671-aacf-e88938545791",
     "showTitle": false,
     "title": ""
    }
   },
   "outputs": [
    {
     "output_type": "stream",
     "name": "stdout",
     "output_type": "stream",
     "text": [
      "+-------------------+-----+\n|market_segment_type|count|\n+-------------------+-----+\n|             Online|  518|\n+-------------------+-----+\nonly showing top 1 row\n\n"
     ]
    }
   ],
   "source": [
    "#What is the most common market segment type for reservations?\n",
    "\n",
    "common_market_seg=df_hotel_reservation.groupBy(\"market_segment_type\").count()\n",
    "common_market_seg.sort(col(\"count\").desc()).show(1)"
   ]
  },
  {
   "cell_type": "code",
   "execution_count": 0,
   "metadata": {
    "application/vnd.databricks.v1+cell": {
     "cellMetadata": {
      "byteLimit": 2048000,
      "rowLimit": 10000
     },
     "inputWidgets": {},
     "nuid": "ee88421f-da89-44ba-906d-bef8099bdf34",
     "showTitle": false,
     "title": ""
    }
   },
   "outputs": [
    {
     "output_type": "stream",
     "name": "stdout",
     "output_type": "stream",
     "text": [
      "Out[25]: 493"
     ]
    }
   ],
   "source": [
    "#How many reservations have a booking status of \"Confirmed\"?\n",
    "\n",
    "confirmed_booking=df_hotel_reservation.filter(col(\"booking_status\")==\"Not_Canceled\")\n",
    "confirmed_booking.count()"
   ]
  },
  {
   "cell_type": "code",
   "execution_count": 0,
   "metadata": {
    "application/vnd.databricks.v1+cell": {
     "cellMetadata": {
      "byteLimit": 2048000,
      "rowLimit": 10000
     },
     "inputWidgets": {},
     "nuid": "a5f9574d-de23-4aed-b697-27edfee65e93",
     "showTitle": false,
     "title": ""
    }
   },
   "outputs": [
    {
     "output_type": "stream",
     "name": "stdout",
     "output_type": "stream",
     "text": [
      "+------------+--------------+\n|total_adults|total_childern|\n+------------+--------------+\n|        1316|            69|\n+------------+--------------+\n\n"
     ]
    }
   ],
   "source": [
    "#What is the total number of adults and children across all reservations?\n",
    "\n",
    "df_hotel_reservation.select(sum(col(\"no_of_adults\")).alias(\"total_adults\"),\n",
    "                            sum(col(\"no_of_children\")).alias(\"total_childern\")).show()"
   ]
  },
  {
   "cell_type": "code",
   "execution_count": 0,
   "metadata": {
    "application/vnd.databricks.v1+cell": {
     "cellMetadata": {
      "byteLimit": 2048000,
      "rowLimit": 10000
     },
     "inputWidgets": {},
     "nuid": "2ba1a147-0b43-4635-822b-895368ecad87",
     "showTitle": false,
     "title": ""
    }
   },
   "outputs": [
    {
     "output_type": "stream",
     "name": "stdout",
     "output_type": "stream",
     "text": [
      "+---------------+\n|average_weekend|\n+---------------+\n|            1.0|\n+---------------+\n\n"
     ]
    }
   ],
   "source": [
    "#What is the average number of weekend nights for reservations involving children?\n",
    "\n",
    "resevatiopn_with_childrens=df_hotel_reservation.filter(col(\"no_of_children\")>0)\n",
    "resevatiopn_with_childrens.select(avg(col(\"no_of_weekend_nights\")).alias(\"average_weekend\")).show()"
   ]
  },
  {
   "cell_type": "code",
   "execution_count": 0,
   "metadata": {
    "application/vnd.databricks.v1+cell": {
     "cellMetadata": {
      "byteLimit": 2048000,
      "rowLimit": 10000
     },
     "inputWidgets": {},
     "nuid": "e3a0be7b-3a5f-40c0-afab-a4e3374af2e6",
     "showTitle": false,
     "title": ""
    }
   },
   "outputs": [
    {
     "output_type": "stream",
     "name": "stdout",
     "output_type": "stream",
     "text": [
      "+----+-----+-----+\n|year|month|count|\n+----+-----+-----+\n|2017|    7|    8|\n|2017|    8|   14|\n|2017|    9|   35|\n|2017|   10|   40|\n|2017|   11|   13|\n|2017|   12|   13|\n|2018|    1|   11|\n|2018|    2|   28|\n|2018|    3|   52|\n|2018|    4|   67|\n|2018|    5|   55|\n|2018|    6|   84|\n|2018|    7|   36|\n|2018|    8|   56|\n|2018|    9|   45|\n|2018|   10|   63|\n|2018|   11|   41|\n|2018|   12|   39|\n+----+-----+-----+\n\n"
     ]
    }
   ],
   "source": [
    "#How many reservations were made in each month of the year?\n",
    "\n",
    "month_yearwise_reservation=df_hotel_reservation.groupBy(year(col(\"arrival_date\")).alias(\"year\"),\n",
    "                                                        month(col(\"arrival_date\")).alias(\"month\")).count()\n",
    "\n",
    "month_yearwise_reservation.sort(col(\"year\"),col(\"month\")).show()"
   ]
  },
  {
   "cell_type": "code",
   "execution_count": 0,
   "metadata": {
    "application/vnd.databricks.v1+cell": {
     "cellMetadata": {
      "byteLimit": 2048000,
      "rowLimit": 10000
     },
     "inputWidgets": {},
     "nuid": "d02884a1-4f18-4ced-aff9-e9d3b45b506e",
     "showTitle": false,
     "title": ""
    }
   },
   "outputs": [
    {
     "output_type": "stream",
     "name": "stdout",
     "output_type": "stream",
     "text": [
      "+------------------+----------------------+------------------+\n|room_type_reserved|avergae_weekend_nights|average_week_night|\n+------------------+----------------------+------------------+\n|       Room_Type 7|                   1.0|              1.67|\n|       Room_Type 2|                   1.0|               2.0|\n|       Room_Type 1|                  0.79|              2.09|\n|       Room_Type 5|                   0.0|               2.5|\n|       Room_Type 6|                  1.06|              2.56|\n|       Room_Type 4|                  1.09|              2.71|\n+------------------+----------------------+------------------+\n\n"
     ]
    }
   ],
   "source": [
    "#What is the average number of nights (both weekend and weekday) spent by guests for each room type?\n",
    "\n",
    "df_hotel_reservation.groupBy(\"room_type_reserved\")\\\n",
    "                    .agg(round(avg(\"no_of_weekend_nights\"),2).alias(\"avergae_weekend_nights\"),\n",
    "                         round(avg(\"no_of_week_nights\"),2).alias(\"average_week_night\")).show()\n",
    "                        "
   ]
  },
  {
   "cell_type": "code",
   "execution_count": 0,
   "metadata": {
    "application/vnd.databricks.v1+cell": {
     "cellMetadata": {
      "byteLimit": 2048000,
      "rowLimit": 10000
     },
     "inputWidgets": {},
     "nuid": "95748594-c86a-4cf7-a9c5-020dd391a833",
     "showTitle": false,
     "title": ""
    }
   },
   "outputs": [
    {
     "output_type": "stream",
     "name": "stdout",
     "output_type": "stream",
     "text": [
      "+------------------+-------------+\n|room_type_reserved|avergae_price|\n+------------------+-------------+\n|       Room_Type 6|      3150.58|\n+------------------+-------------+\nonly showing top 1 row\n\n"
     ]
    }
   ],
   "source": [
    "#For reservations involving children, what is the most common room type, and what is the average price for that room type?\n",
    "\n",
    "most_common_room_with_children=resevatiopn_with_childrens.groupBy(\"room_type_reserved\")\\\n",
    "                            .agg(round(sum(\"avg_price_per_room\"),2).alias(\"avergae_price\"))\n",
    "\n",
    "most_common_room_with_children.sort(col(\"avergae_price\").desc()).show(1)"
   ]
  },
  {
   "cell_type": "code",
   "execution_count": 0,
   "metadata": {
    "application/vnd.databricks.v1+cell": {
     "cellMetadata": {
      "byteLimit": 2048000,
      "rowLimit": 10000
     },
     "inputWidgets": {},
     "nuid": "2f46bd43-6b98-4519-ab0b-4dc07ee70492",
     "showTitle": false,
     "title": ""
    }
   },
   "outputs": [
    {
     "output_type": "stream",
     "name": "stdout",
     "output_type": "stream",
     "text": [
      "+-------------------+-------------+\n|market_segment_type|average_price|\n+-------------------+-------------+\n|             Online|       112.46|\n+-------------------+-------------+\nonly showing top 1 row\n\n"
     ]
    }
   ],
   "source": [
    "#Find the market segment type that generates the highest average price per room.\n",
    "\n",
    "market_segment=df_hotel_reservation.groupBy(\"market_segment_type\")\\\n",
    "                                    .agg(round(avg(\"avg_price_per_room\"),2).alias(\"average_price\"))\n",
    "\n",
    "market_segment.sort(col(\"average_price\").desc()).show(1)"
   ]
  },
  {
   "cell_type": "code",
   "execution_count": 0,
   "metadata": {
    "application/vnd.databricks.v1+cell": {
     "cellMetadata": {},
     "inputWidgets": {},
     "nuid": "b7d5221f-5dab-4f03-992d-e1c404f39cd4",
     "showTitle": false,
     "title": ""
    }
   },
   "outputs": [],
   "source": []
  }
 ],
 "metadata": {
  "application/vnd.databricks.v1+notebook": {
   "dashboards": [],
   "environmentMetadata": null,
   "language": "python",
   "notebookMetadata": {
    "pythonIndentUnit": 4
   },
   "notebookName": "Hotel_Reservation 2024-06-17 23:06:32",
   "widgets": {}
  }
 },
 "nbformat": 4,
 "nbformat_minor": 0
}
